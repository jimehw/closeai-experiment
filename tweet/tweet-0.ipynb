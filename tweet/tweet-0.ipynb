{
 "cells": [
  {
   "cell_type": "code",
   "execution_count": 1,
   "id": "df031ba0-f7c0-4786-b371-12ed9a1ba576",
   "metadata": {
    "tags": []
   },
   "outputs": [
    {
     "name": "stdout",
     "output_type": "stream",
     "text": [
      "env: OPENAI_API_KEY=yur_key\n"
     ]
    }
   ],
   "source": [
    "%env OPENAI_API_KEY=yur_key\n"
   ]
  },
  {
   "cell_type": "markdown",
   "id": "604f39e4-dcf9-4a17-983a-f5f51fff3edd",
   "metadata": {},
   "source": [
    "## Tweet Sentiment Extraction\n",
    "\n",
    "\n",
    "\n",
    "[https://www.kaggle.com/competitions/tweet-sentiment-extraction/overview](https://www.kaggle.com/competitions/tweet-sentiment-extraction/overview)"
   ]
  },
  {
   "cell_type": "code",
   "execution_count": 3,
   "id": "63bd8a26-6b21-4c7b-9584-7d73f707d98b",
   "metadata": {
    "tags": []
   },
   "outputs": [
    {
     "name": "stdout",
     "output_type": "stream",
     "text": [
      "Requirement already satisfied: openai in /opt/conda/lib/python3.10/site-packages (0.27.2)\n",
      "Requirement already satisfied: aiohttp in /opt/conda/lib/python3.10/site-packages (from openai) (3.8.4)\n",
      "Requirement already satisfied: tqdm in /opt/conda/lib/python3.10/site-packages (from openai) (4.64.1)\n",
      "Requirement already satisfied: requests>=2.20 in /opt/conda/lib/python3.10/site-packages (from openai) (2.28.2)\n",
      "Requirement already satisfied: idna<4,>=2.5 in /opt/conda/lib/python3.10/site-packages (from requests>=2.20->openai) (3.4)\n",
      "Requirement already satisfied: charset-normalizer<4,>=2 in /opt/conda/lib/python3.10/site-packages (from requests>=2.20->openai) (2.1.1)\n",
      "Requirement already satisfied: urllib3<1.27,>=1.21.1 in /opt/conda/lib/python3.10/site-packages (from requests>=2.20->openai) (1.26.14)\n",
      "Requirement already satisfied: certifi>=2017.4.17 in /opt/conda/lib/python3.10/site-packages (from requests>=2.20->openai) (2022.12.7)\n",
      "Requirement already satisfied: attrs>=17.3.0 in /opt/conda/lib/python3.10/site-packages (from aiohttp->openai) (22.2.0)\n",
      "Requirement already satisfied: frozenlist>=1.1.1 in /opt/conda/lib/python3.10/site-packages (from aiohttp->openai) (1.3.3)\n",
      "Requirement already satisfied: multidict<7.0,>=4.5 in /opt/conda/lib/python3.10/site-packages (from aiohttp->openai) (6.0.4)\n",
      "Requirement already satisfied: async-timeout<5.0,>=4.0.0a3 in /opt/conda/lib/python3.10/site-packages (from aiohttp->openai) (4.0.2)\n",
      "Requirement already satisfied: aiosignal>=1.1.2 in /opt/conda/lib/python3.10/site-packages (from aiohttp->openai) (1.3.1)\n",
      "Requirement already satisfied: yarl<2.0,>=1.0 in /opt/conda/lib/python3.10/site-packages (from aiohttp->openai) (1.8.2)\n"
     ]
    }
   ],
   "source": [
    "import pandas as pd \n",
    "import numpy as np \n",
    "import matplotlib.pyplot as plt\n",
    "import seaborn as sns\n",
    "import random\n",
    "import string\n",
    "\n",
    "import re\n",
    "import os\n",
    "import random\n",
    "\n",
    "from sklearn.model_selection import train_test_split\n",
    "\n",
    "\n",
    "import warnings\n",
    "warnings.filterwarnings(\"ignore\")\n",
    "\n",
    "pd.set_option('display.max_colwidth', None)\n",
    "\n",
    "%matplotlib inline\n",
    "\n",
    "!pip install --upgrade openai\n"
   ]
  },
  {
   "cell_type": "code",
   "execution_count": 81,
   "id": "1d0364b1-ed42-4a42-b73d-4a3ad450ebb6",
   "metadata": {
    "tags": []
   },
   "outputs": [
    {
     "data": {
      "text/html": [
       "<div>\n",
       "<style scoped>\n",
       "    .dataframe tbody tr th:only-of-type {\n",
       "        vertical-align: middle;\n",
       "    }\n",
       "\n",
       "    .dataframe tbody tr th {\n",
       "        vertical-align: top;\n",
       "    }\n",
       "\n",
       "    .dataframe thead th {\n",
       "        text-align: right;\n",
       "    }\n",
       "</style>\n",
       "<table border=\"1\" class=\"dataframe\">\n",
       "  <thead>\n",
       "    <tr style=\"text-align: right;\">\n",
       "      <th></th>\n",
       "      <th>textID</th>\n",
       "      <th>text</th>\n",
       "      <th>sentiment</th>\n",
       "    </tr>\n",
       "  </thead>\n",
       "  <tbody>\n",
       "    <tr>\n",
       "      <th>0</th>\n",
       "      <td>f87dea47db</td>\n",
       "      <td>Last session of the day  http://twitpic.com/67ezh</td>\n",
       "      <td>neutral</td>\n",
       "    </tr>\n",
       "    <tr>\n",
       "      <th>1</th>\n",
       "      <td>96d74cb729</td>\n",
       "      <td>Shanghai is also really exciting (precisely -- skyscrapers galore). Good tweeps in China:  (SH)  (BJ).</td>\n",
       "      <td>positive</td>\n",
       "    </tr>\n",
       "    <tr>\n",
       "      <th>2</th>\n",
       "      <td>eee518ae67</td>\n",
       "      <td>Recession hit Veronique Branquinho, she has to quit her company, such a shame!</td>\n",
       "      <td>negative</td>\n",
       "    </tr>\n",
       "    <tr>\n",
       "      <th>3</th>\n",
       "      <td>01082688c6</td>\n",
       "      <td>happy bday!</td>\n",
       "      <td>positive</td>\n",
       "    </tr>\n",
       "    <tr>\n",
       "      <th>4</th>\n",
       "      <td>33987a8ee5</td>\n",
       "      <td>http://twitpic.com/4w75p - I like it!!</td>\n",
       "      <td>positive</td>\n",
       "    </tr>\n",
       "  </tbody>\n",
       "</table>\n",
       "</div>"
      ],
      "text/plain": [
       "       textID  \\\n",
       "0  f87dea47db   \n",
       "1  96d74cb729   \n",
       "2  eee518ae67   \n",
       "3  01082688c6   \n",
       "4  33987a8ee5   \n",
       "\n",
       "                                                                                                      text  \\\n",
       "0                                                        Last session of the day  http://twitpic.com/67ezh   \n",
       "1   Shanghai is also really exciting (precisely -- skyscrapers galore). Good tweeps in China:  (SH)  (BJ).   \n",
       "2                           Recession hit Veronique Branquinho, she has to quit her company, such a shame!   \n",
       "3                                                                                              happy bday!   \n",
       "4                                                                   http://twitpic.com/4w75p - I like it!!   \n",
       "\n",
       "  sentiment  \n",
       "0   neutral  \n",
       "1  positive  \n",
       "2  negative  \n",
       "3  positive  \n",
       "4  positive  "
      ]
     },
     "execution_count": 81,
     "metadata": {},
     "output_type": "execute_result"
    }
   ],
   "source": [
    "test = pd.read_csv('./data/test.csv')\n",
    "\n",
    "#test = test.head(10)\n",
    "\n",
    "test.head(5)"
   ]
  },
  {
   "cell_type": "code",
   "execution_count": 83,
   "id": "c1996229-0ac4-4908-8cae-3219d8edc063",
   "metadata": {
    "tags": []
   },
   "outputs": [
    {
     "data": {
      "text/html": [
       "<div>\n",
       "<style scoped>\n",
       "    .dataframe tbody tr th:only-of-type {\n",
       "        vertical-align: middle;\n",
       "    }\n",
       "\n",
       "    .dataframe tbody tr th {\n",
       "        vertical-align: top;\n",
       "    }\n",
       "\n",
       "    .dataframe thead th {\n",
       "        text-align: right;\n",
       "    }\n",
       "</style>\n",
       "<table border=\"1\" class=\"dataframe\">\n",
       "  <thead>\n",
       "    <tr style=\"text-align: right;\">\n",
       "      <th></th>\n",
       "      <th>sentiment</th>\n",
       "      <th>counts</th>\n",
       "    </tr>\n",
       "  </thead>\n",
       "  <tbody>\n",
       "    <tr>\n",
       "      <th>0</th>\n",
       "      <td>negative</td>\n",
       "      <td>1001</td>\n",
       "    </tr>\n",
       "    <tr>\n",
       "      <th>1</th>\n",
       "      <td>neutral</td>\n",
       "      <td>1430</td>\n",
       "    </tr>\n",
       "    <tr>\n",
       "      <th>2</th>\n",
       "      <td>positive</td>\n",
       "      <td>1103</td>\n",
       "    </tr>\n",
       "  </tbody>\n",
       "</table>\n",
       "</div>"
      ],
      "text/plain": [
       "  sentiment  counts\n",
       "0  negative    1001\n",
       "1   neutral    1430\n",
       "2  positive    1103"
      ]
     },
     "execution_count": 83,
     "metadata": {},
     "output_type": "execute_result"
    }
   ],
   "source": [
    "test.groupby(['sentiment']).size().reset_index(name='counts')"
   ]
  },
  {
   "cell_type": "markdown",
   "id": "2f9ca87c-8d16-45aa-86e4-cac01c99bbec",
   "metadata": {},
   "source": [
    "## (Non Fine-Tuned) OpenAI Inference \n",
    "This inference is direct api call with non custom / fine tuned model"
   ]
  },
  {
   "cell_type": "code",
   "execution_count": 7,
   "id": "b8a91379-b8f4-416a-9bea-da2768c67442",
   "metadata": {
    "tags": []
   },
   "outputs": [],
   "source": [
    "import openai\n",
    "\n",
    "def predict(p, model_name, max_tokens):\n",
    "    response =  openai.Completion.create(\n",
    "        model=model_name,\n",
    "        # model=\"text-davinci-003\",\n",
    "        prompt=p,\n",
    "        temperature=0,\n",
    "        max_tokens=max_tokens,\n",
    "        top_p=1.0,\n",
    "        frequency_penalty=0.0,\n",
    "        presence_penalty=0.0\n",
    "        #logprobs=3\n",
    "    )\n",
    "    \n",
    "    return response.choices[0].text.lower().strip()\n",
    "\n",
    "\n",
    "def make_prompt(text):\n",
    "    return f'Classify the sentiment of this tweet as positive or negative or neutral:\\n\\n' + f'1. \\\"{text}\\\"\\n\\n### \\n\\n'\n",
    "\n",
    "\n",
    "\n",
    "def predict_batch(df, model_name, batch_size=1, max_tokens=10):\n",
    "    row_num = df.shape[0]\n",
    "    #batch_size=4 # looks like the api only respond 4 tweets at a time\n",
    "    print_i = 500\n",
    "    all_predictions = []\n",
    "\n",
    "    for i in range(1, row_num + 1):\n",
    "\n",
    "        #if (i-1) % batch_size == 0:\n",
    "            #p = f'Classify the sentiment each in these tweets as positive or negative or neutral:\\n\\n'\n",
    "            #p = f'Classify the sentiment in this tweet:\\n\\n\\\"{tweet}\\\"\\n\\n###\\n\\n '\n",
    "        #    p = f'Classify the sentiment of this tweet as positive or negative or neutral:\\n\\n'\n",
    "\n",
    "\n",
    "        text = df.at[i-1, 'text']\n",
    "        prompt = make_prompt(text)\n",
    "        #p = p + f'1. \\\"{text}\\\"\\n\\n### \\n\\n'\n",
    "\n",
    "        #if i % batch_size == 0 or i == row_num:\n",
    "        prediction = predict(prompt, model_name, max_tokens)\n",
    "        prediction_clean = re.findall(r'positive|negative|neutral', prediction)\n",
    "        #print(f'prediction_clean: {prediction_clean}')\n",
    "        assert (prediction_clean[0] == 'positive' or prediction_clean[0] ==  'negative' or prediction_clean[0] ==  'neutral')\n",
    "\n",
    "        all_predictions.append(prediction_clean[0])\n",
    "        #print(f'prompt: {prompt}, prediction: {prediction}')\n",
    "\n",
    "        if i % print_i == 0 or i == row_num:\n",
    "            print(f'predicts {i} of {row_num}')\n",
    "            \n",
    "        assert i == len(all_predictions)\n",
    " \n",
    "\n",
    "        \n",
    "    print(f'row_num: {row_num}, all_predictions: {len(all_predictions)}') \n",
    "\n",
    "    assert row_num == len(all_predictions)\n",
    "    \n",
    "    return all_predictions\n"
   ]
  },
  {
   "cell_type": "code",
   "execution_count": 95,
   "id": "916e0b28-59b1-471a-a711-4d5c0c34e499",
   "metadata": {
    "tags": []
   },
   "outputs": [
    {
     "name": "stdout",
     "output_type": "stream",
     "text": [
      "predicts 500 of 3534\n",
      "predicts 1000 of 3534\n",
      "predicts 1500 of 3534\n",
      "predicts 2000 of 3534\n",
      "predicts 2500 of 3534\n",
      "predicts 3000 of 3534\n",
      "predicts 3500 of 3534\n",
      "predicts 3534 of 3534\n",
      "row_num: 3534, all_predictions: 3534\n",
      "test_accuracy: 0.6295981890209394\n"
     ]
    },
    {
     "data": {
      "text/html": [
       "<div>\n",
       "<style scoped>\n",
       "    .dataframe tbody tr th:only-of-type {\n",
       "        vertical-align: middle;\n",
       "    }\n",
       "\n",
       "    .dataframe tbody tr th {\n",
       "        vertical-align: top;\n",
       "    }\n",
       "\n",
       "    .dataframe thead th {\n",
       "        text-align: right;\n",
       "    }\n",
       "</style>\n",
       "<table border=\"1\" class=\"dataframe\">\n",
       "  <thead>\n",
       "    <tr style=\"text-align: right;\">\n",
       "      <th></th>\n",
       "      <th>correct_prediction</th>\n",
       "      <th>sentiment</th>\n",
       "      <th>prediction</th>\n",
       "      <th>counts</th>\n",
       "    </tr>\n",
       "  </thead>\n",
       "  <tbody>\n",
       "    <tr>\n",
       "      <th>0</th>\n",
       "      <td>False</td>\n",
       "      <td>negative</td>\n",
       "      <td>neutral</td>\n",
       "      <td>558</td>\n",
       "    </tr>\n",
       "    <tr>\n",
       "      <th>1</th>\n",
       "      <td>False</td>\n",
       "      <td>negative</td>\n",
       "      <td>positive</td>\n",
       "      <td>64</td>\n",
       "    </tr>\n",
       "    <tr>\n",
       "      <th>2</th>\n",
       "      <td>False</td>\n",
       "      <td>neutral</td>\n",
       "      <td>negative</td>\n",
       "      <td>66</td>\n",
       "    </tr>\n",
       "    <tr>\n",
       "      <th>3</th>\n",
       "      <td>False</td>\n",
       "      <td>neutral</td>\n",
       "      <td>positive</td>\n",
       "      <td>280</td>\n",
       "    </tr>\n",
       "    <tr>\n",
       "      <th>4</th>\n",
       "      <td>False</td>\n",
       "      <td>positive</td>\n",
       "      <td>negative</td>\n",
       "      <td>7</td>\n",
       "    </tr>\n",
       "    <tr>\n",
       "      <th>5</th>\n",
       "      <td>False</td>\n",
       "      <td>positive</td>\n",
       "      <td>neutral</td>\n",
       "      <td>334</td>\n",
       "    </tr>\n",
       "    <tr>\n",
       "      <th>6</th>\n",
       "      <td>True</td>\n",
       "      <td>negative</td>\n",
       "      <td>negative</td>\n",
       "      <td>379</td>\n",
       "    </tr>\n",
       "    <tr>\n",
       "      <th>7</th>\n",
       "      <td>True</td>\n",
       "      <td>neutral</td>\n",
       "      <td>neutral</td>\n",
       "      <td>1084</td>\n",
       "    </tr>\n",
       "    <tr>\n",
       "      <th>8</th>\n",
       "      <td>True</td>\n",
       "      <td>positive</td>\n",
       "      <td>positive</td>\n",
       "      <td>762</td>\n",
       "    </tr>\n",
       "  </tbody>\n",
       "</table>\n",
       "</div>"
      ],
      "text/plain": [
       "   correct_prediction sentiment prediction  counts\n",
       "0               False  negative    neutral     558\n",
       "1               False  negative   positive      64\n",
       "2               False   neutral   negative      66\n",
       "3               False   neutral   positive     280\n",
       "4               False  positive   negative       7\n",
       "5               False  positive    neutral     334\n",
       "6                True  negative   negative     379\n",
       "7                True   neutral    neutral    1084\n",
       "8                True  positive   positive     762"
      ]
     },
     "execution_count": 95,
     "metadata": {},
     "output_type": "execute_result"
    }
   ],
   "source": [
    "test_predictions = predict_batch(test, 'text-davinci-003') # use built-in model\n",
    "test['prediction'] = np.array(test_predictions)\n",
    "test['correct_prediction'] = test['sentiment'] == test['prediction']\n",
    "\n",
    "test_accuracy = test[test['sentiment'] == test['prediction']].shape[0] / test.shape[0]\n",
    "\n",
    "print(f'test_accuracy: {test_accuracy}')\n",
    "\n",
    "test.groupby(['correct_prediction','sentiment','prediction']).size().reset_index(name='counts')"
   ]
  },
  {
   "cell_type": "markdown",
   "id": "92008c43-b221-4dea-a159-3f5d2b123ec1",
   "metadata": {},
   "source": [
    "## (Fine-Tuned) OpenAI Inference "
   ]
  },
  {
   "cell_type": "code",
   "execution_count": 96,
   "id": "a89f5c18-5b95-489a-9393-e064dfe75824",
   "metadata": {
    "tags": []
   },
   "outputs": [
    {
     "data": {
      "text/html": [
       "<div>\n",
       "<style scoped>\n",
       "    .dataframe tbody tr th:only-of-type {\n",
       "        vertical-align: middle;\n",
       "    }\n",
       "\n",
       "    .dataframe tbody tr th {\n",
       "        vertical-align: top;\n",
       "    }\n",
       "\n",
       "    .dataframe thead th {\n",
       "        text-align: right;\n",
       "    }\n",
       "</style>\n",
       "<table border=\"1\" class=\"dataframe\">\n",
       "  <thead>\n",
       "    <tr style=\"text-align: right;\">\n",
       "      <th></th>\n",
       "      <th>textID</th>\n",
       "      <th>text</th>\n",
       "      <th>selected_text</th>\n",
       "    </tr>\n",
       "    <tr>\n",
       "      <th>sentiment</th>\n",
       "      <th></th>\n",
       "      <th></th>\n",
       "      <th></th>\n",
       "    </tr>\n",
       "  </thead>\n",
       "  <tbody>\n",
       "    <tr>\n",
       "      <th>negative</th>\n",
       "      <td>7781</td>\n",
       "      <td>7781</td>\n",
       "      <td>7781</td>\n",
       "    </tr>\n",
       "    <tr>\n",
       "      <th>neutral</th>\n",
       "      <td>11118</td>\n",
       "      <td>11117</td>\n",
       "      <td>11117</td>\n",
       "    </tr>\n",
       "    <tr>\n",
       "      <th>positive</th>\n",
       "      <td>8582</td>\n",
       "      <td>8582</td>\n",
       "      <td>8582</td>\n",
       "    </tr>\n",
       "  </tbody>\n",
       "</table>\n",
       "</div>"
      ],
      "text/plain": [
       "           textID   text  selected_text\n",
       "sentiment                              \n",
       "negative     7781   7781           7781\n",
       "neutral     11118  11117          11117\n",
       "positive     8582   8582           8582"
      ]
     },
     "execution_count": 96,
     "metadata": {},
     "output_type": "execute_result"
    }
   ],
   "source": [
    "train = pd.read_csv('./data/train.csv')\n",
    "\n",
    "#train = train.head(1000)\n",
    "\n",
    "train.groupby(['sentiment']).count()"
   ]
  },
  {
   "cell_type": "code",
   "execution_count": 97,
   "id": "11a15e93-f553-44fc-b543-ea0f8ab547de",
   "metadata": {
    "tags": []
   },
   "outputs": [
    {
     "data": {
      "text/html": [
       "<div>\n",
       "<style scoped>\n",
       "    .dataframe tbody tr th:only-of-type {\n",
       "        vertical-align: middle;\n",
       "    }\n",
       "\n",
       "    .dataframe tbody tr th {\n",
       "        vertical-align: top;\n",
       "    }\n",
       "\n",
       "    .dataframe thead th {\n",
       "        text-align: right;\n",
       "    }\n",
       "</style>\n",
       "<table border=\"1\" class=\"dataframe\">\n",
       "  <thead>\n",
       "    <tr style=\"text-align: right;\">\n",
       "      <th></th>\n",
       "      <th>textID</th>\n",
       "      <th>prompt</th>\n",
       "      <th>selected_text</th>\n",
       "      <th>completion</th>\n",
       "    </tr>\n",
       "  </thead>\n",
       "  <tbody>\n",
       "    <tr>\n",
       "      <th>0</th>\n",
       "      <td>cb774db0d1</td>\n",
       "      <td>Classify the sentiment of this tweet as positive or negative or neutral:\\n\\n1. \" I`d have responded, if I were going\"\\n\\n### \\n\\n</td>\n",
       "      <td>I`d have responded, if I were going</td>\n",
       "      <td>neutral</td>\n",
       "    </tr>\n",
       "    <tr>\n",
       "      <th>1</th>\n",
       "      <td>549e992a42</td>\n",
       "      <td>Classify the sentiment of this tweet as positive or negative or neutral:\\n\\n1. \" Sooo SAD I will miss you here in San Diego!!!\"\\n\\n### \\n\\n</td>\n",
       "      <td>Sooo SAD</td>\n",
       "      <td>negative</td>\n",
       "    </tr>\n",
       "    <tr>\n",
       "      <th>2</th>\n",
       "      <td>088c60f138</td>\n",
       "      <td>Classify the sentiment of this tweet as positive or negative or neutral:\\n\\n1. \"my boss is bullying me...\"\\n\\n### \\n\\n</td>\n",
       "      <td>bullying me</td>\n",
       "      <td>negative</td>\n",
       "    </tr>\n",
       "    <tr>\n",
       "      <th>3</th>\n",
       "      <td>9642c003ef</td>\n",
       "      <td>Classify the sentiment of this tweet as positive or negative or neutral:\\n\\n1. \" what interview! leave me alone\"\\n\\n### \\n\\n</td>\n",
       "      <td>leave me alone</td>\n",
       "      <td>negative</td>\n",
       "    </tr>\n",
       "    <tr>\n",
       "      <th>4</th>\n",
       "      <td>358bd9e861</td>\n",
       "      <td>Classify the sentiment of this tweet as positive or negative or neutral:\\n\\n1. \" Sons of ****, why couldn`t they put them on the releases we already bought\"\\n\\n### \\n\\n</td>\n",
       "      <td>Sons of ****,</td>\n",
       "      <td>negative</td>\n",
       "    </tr>\n",
       "  </tbody>\n",
       "</table>\n",
       "</div>"
      ],
      "text/plain": [
       "       textID  \\\n",
       "0  cb774db0d1   \n",
       "1  549e992a42   \n",
       "2  088c60f138   \n",
       "3  9642c003ef   \n",
       "4  358bd9e861   \n",
       "\n",
       "                                                                                                                                                                     prompt  \\\n",
       "0                                         Classify the sentiment of this tweet as positive or negative or neutral:\\n\\n1. \" I`d have responded, if I were going\"\\n\\n### \\n\\n   \n",
       "1                               Classify the sentiment of this tweet as positive or negative or neutral:\\n\\n1. \" Sooo SAD I will miss you here in San Diego!!!\"\\n\\n### \\n\\n   \n",
       "2                                                    Classify the sentiment of this tweet as positive or negative or neutral:\\n\\n1. \"my boss is bullying me...\"\\n\\n### \\n\\n   \n",
       "3                                              Classify the sentiment of this tweet as positive or negative or neutral:\\n\\n1. \" what interview! leave me alone\"\\n\\n### \\n\\n   \n",
       "4  Classify the sentiment of this tweet as positive or negative or neutral:\\n\\n1. \" Sons of ****, why couldn`t they put them on the releases we already bought\"\\n\\n### \\n\\n   \n",
       "\n",
       "                         selected_text completion  \n",
       "0  I`d have responded, if I were going    neutral  \n",
       "1                             Sooo SAD   negative  \n",
       "2                          bullying me   negative  \n",
       "3                       leave me alone   negative  \n",
       "4                        Sons of ****,   negative  "
      ]
     },
     "execution_count": 97,
     "metadata": {},
     "output_type": "execute_result"
    }
   ],
   "source": [
    "train = train.rename(columns={\"text\": \"prompt\", \"sentiment\": \"completion\"})\n",
    "\n",
    "train['prompt'] = train.apply(lambda x: make_prompt(x['prompt']), axis=1)\n",
    "\n",
    "train[['prompt', 'completion']].to_json(\"train.jsonl\", orient='records', lines=True)\n",
    "\n",
    "train.head(5)"
   ]
  },
  {
   "cell_type": "code",
   "execution_count": 98,
   "id": "a31feb72-1973-4ebf-949d-d8fe8e2b1282",
   "metadata": {
    "tags": []
   },
   "outputs": [
    {
     "name": "stdout",
     "output_type": "stream",
     "text": [
      "Analyzing...\n",
      "\n",
      "- Your file contains 27481 prompt-completion pairs\n",
      "- Based on your data it seems like you're trying to fine-tune a model for classification\n",
      "- For classification, we recommend you try one of the faster and cheaper models, such as `ada`\n",
      "- For classification, you can estimate the expected model performance by keeping a held out dataset, which is not used for training\n",
      "- All prompts end with suffix `\"\\n\\n### \\n\\n`\n",
      "- All prompts start with prefix `Classify the sentiment of this tweet as positive or negative or neutral:\n",
      "\n",
      "1. \"`. Fine-tuning doesn't require the instruction specifying the task, or a few-shot example scenario. Most of the time you should only add the input data into the prompt, and the desired output into the completion\n",
      "- The completion should start with a whitespace character (` `). This tends to produce better results due to the tokenization we use. See https://platform.openai.com/docs/guides/fine-tuning/preparing-your-dataset for more details\n",
      "\n",
      "Based on the analysis we will perform the following actions:\n",
      "- [Recommended] Remove prefix `Classify the sentiment of this tweet as positive or negative or neutral:\n",
      "\n",
      "1. \"` from all prompts [Y/n]: Y\n",
      "- [Recommended] Add a whitespace character to the beginning of the completion [Y/n]: Y\n",
      "- [Recommended] Would you like to split into training and validation set? [Y/n]: Y\n",
      "\n",
      "\n",
      "Your data will be written to a new JSONL file. Proceed [Y/n]: Y\n",
      "\n",
      "Wrote modified files to `train_prepared_train.jsonl` and `train_prepared_valid.jsonl`\n",
      "Feel free to take a look!\n",
      "\n",
      "Now use that file when fine-tuning:\n",
      "> openai api fine_tunes.create -t \"train_prepared_train.jsonl\" -v \"train_prepared_valid.jsonl\" --compute_classification_metrics --classification_n_classes 3\n",
      "\n",
      "After you’ve fine-tuned a model, remember that your prompt has to end with the indicator string `\"\\n\\n### \\n\\n` for the model to start generating completions, rather than continuing with the prompt.\n",
      "Once your model starts training, it'll approximately take 11.03 hours to train a `curie` model, and less for `ada` and `babbage`. Queue will approximately take half an hour per job ahead of you.\n"
     ]
    }
   ],
   "source": [
    "!openai tools fine_tunes.prepare_data -f train.jsonl -q"
   ]
  },
  {
   "cell_type": "markdown",
   "id": "ba595a8c-cf68-4642-9b37-4876be58c98b",
   "metadata": {
    "tags": []
   },
   "source": [
    "## Run below steps manually due to lengthy process \n",
    "\n",
    "export OPENAI_API_KEY=yur_key <br />\n",
    "openai api fine_tunes.create -t \"train_prepared_train.jsonl\" -v \"train_prepared_valid.jsonl\" --compute_classification_metrics --classification_n_classes 3  -m davinci <br />\n",
    "\n",
    "### Dump the train stats (mind your process name) \n",
    "openai api fine_tunes.results -i  ft-K0C1hn9yj0GLOu9g1hspL2zw > result.csv  <br />\n",
    "\n",
    "### Test your model (mind your model name) \n",
    "openai api completions.create -m davinci:ft-personal-2023-03-13-03-23-53 -p YOUR_PROMPT <br />\n",
    "\n"
   ]
  },
  {
   "cell_type": "code",
   "execution_count": 4,
   "id": "d29f35bf-cfd6-4c77-a151-2f9cd5ec51f4",
   "metadata": {
    "tags": []
   },
   "outputs": [
    {
     "data": {
      "text/plain": [
       "<AxesSubplot: >"
      ]
     },
     "execution_count": 4,
     "metadata": {},
     "output_type": "execute_result"
    },
    {
     "data": {
      "image/png": "[encoded data removed]",
      "text/plain": [
       "<Figure size 640x480 with 1 Axes>"
      ]
     },
     "metadata": {},
     "output_type": "display_data"
    }
   ],
   "source": [
    "train_results = pd.read_csv('result.csv')\n",
    "train_results[train_results['classification/accuracy'].notnull()]['classification/accuracy'].plot()\n",
    "\n",
    "# train_results[train_results['classification/accuracy'].notnull()].tail(1)"
   ]
  },
  {
   "cell_type": "code",
   "execution_count": 5,
   "id": "cb4fd8d0-009e-45ce-ae62-31309003aa5f",
   "metadata": {
    "tags": []
   },
   "outputs": [
    {
     "data": {
      "text/html": [
       "<div>\n",
       "<style scoped>\n",
       "    .dataframe tbody tr th:only-of-type {\n",
       "        vertical-align: middle;\n",
       "    }\n",
       "\n",
       "    .dataframe tbody tr th {\n",
       "        vertical-align: top;\n",
       "    }\n",
       "\n",
       "    .dataframe thead th {\n",
       "        text-align: right;\n",
       "    }\n",
       "</style>\n",
       "<table border=\"1\" class=\"dataframe\">\n",
       "  <thead>\n",
       "    <tr style=\"text-align: right;\">\n",
       "      <th></th>\n",
       "      <th>textID</th>\n",
       "      <th>text</th>\n",
       "    </tr>\n",
       "    <tr>\n",
       "      <th>sentiment</th>\n",
       "      <th></th>\n",
       "      <th></th>\n",
       "    </tr>\n",
       "  </thead>\n",
       "  <tbody>\n",
       "    <tr>\n",
       "      <th>negative</th>\n",
       "      <td>1001</td>\n",
       "      <td>1001</td>\n",
       "    </tr>\n",
       "    <tr>\n",
       "      <th>neutral</th>\n",
       "      <td>1430</td>\n",
       "      <td>1430</td>\n",
       "    </tr>\n",
       "    <tr>\n",
       "      <th>positive</th>\n",
       "      <td>1103</td>\n",
       "      <td>1103</td>\n",
       "    </tr>\n",
       "  </tbody>\n",
       "</table>\n",
       "</div>"
      ],
      "text/plain": [
       "           textID  text\n",
       "sentiment              \n",
       "negative     1001  1001\n",
       "neutral      1430  1430\n",
       "positive     1103  1103"
      ]
     },
     "execution_count": 5,
     "metadata": {},
     "output_type": "execute_result"
    }
   ],
   "source": [
    "test = pd.read_csv('./data/test.csv')\n",
    "\n",
    "#test = test.head(500)\n",
    "\n",
    "test.groupby(['sentiment']).count()"
   ]
  },
  {
   "cell_type": "code",
   "execution_count": 9,
   "id": "b230ec00-90df-4d00-a16d-7bbf756b2d39",
   "metadata": {
    "tags": []
   },
   "outputs": [
    {
     "name": "stdout",
     "output_type": "stream",
     "text": [
      "predicts 500 of 3534\n",
      "predicts 1000 of 3534\n",
      "predicts 1500 of 3534\n",
      "predicts 2000 of 3534\n",
      "predicts 2500 of 3534\n",
      "predicts 3000 of 3534\n",
      "predicts 3500 of 3534\n",
      "predicts 3534 of 3534\n",
      "row_num: 3534, all_predictions: 3534\n",
      "test_accuracy: 0.766553480475382\n"
     ]
    },
    {
     "data": {
      "text/html": [
       "<div>\n",
       "<style scoped>\n",
       "    .dataframe tbody tr th:only-of-type {\n",
       "        vertical-align: middle;\n",
       "    }\n",
       "\n",
       "    .dataframe tbody tr th {\n",
       "        vertical-align: top;\n",
       "    }\n",
       "\n",
       "    .dataframe thead th {\n",
       "        text-align: right;\n",
       "    }\n",
       "</style>\n",
       "<table border=\"1\" class=\"dataframe\">\n",
       "  <thead>\n",
       "    <tr style=\"text-align: right;\">\n",
       "      <th></th>\n",
       "      <th>correct_prediction</th>\n",
       "      <th>sentiment</th>\n",
       "      <th>prediction</th>\n",
       "      <th>counts</th>\n",
       "    </tr>\n",
       "  </thead>\n",
       "  <tbody>\n",
       "    <tr>\n",
       "      <th>0</th>\n",
       "      <td>False</td>\n",
       "      <td>negative</td>\n",
       "      <td>neutral</td>\n",
       "      <td>362</td>\n",
       "    </tr>\n",
       "    <tr>\n",
       "      <th>1</th>\n",
       "      <td>False</td>\n",
       "      <td>negative</td>\n",
       "      <td>positive</td>\n",
       "      <td>13</td>\n",
       "    </tr>\n",
       "    <tr>\n",
       "      <th>2</th>\n",
       "      <td>False</td>\n",
       "      <td>neutral</td>\n",
       "      <td>negative</td>\n",
       "      <td>88</td>\n",
       "    </tr>\n",
       "    <tr>\n",
       "      <th>3</th>\n",
       "      <td>False</td>\n",
       "      <td>neutral</td>\n",
       "      <td>positive</td>\n",
       "      <td>122</td>\n",
       "    </tr>\n",
       "    <tr>\n",
       "      <th>4</th>\n",
       "      <td>False</td>\n",
       "      <td>positive</td>\n",
       "      <td>negative</td>\n",
       "      <td>6</td>\n",
       "    </tr>\n",
       "    <tr>\n",
       "      <th>5</th>\n",
       "      <td>False</td>\n",
       "      <td>positive</td>\n",
       "      <td>neutral</td>\n",
       "      <td>234</td>\n",
       "    </tr>\n",
       "    <tr>\n",
       "      <th>6</th>\n",
       "      <td>True</td>\n",
       "      <td>negative</td>\n",
       "      <td>negative</td>\n",
       "      <td>626</td>\n",
       "    </tr>\n",
       "    <tr>\n",
       "      <th>7</th>\n",
       "      <td>True</td>\n",
       "      <td>neutral</td>\n",
       "      <td>neutral</td>\n",
       "      <td>1220</td>\n",
       "    </tr>\n",
       "    <tr>\n",
       "      <th>8</th>\n",
       "      <td>True</td>\n",
       "      <td>positive</td>\n",
       "      <td>positive</td>\n",
       "      <td>863</td>\n",
       "    </tr>\n",
       "  </tbody>\n",
       "</table>\n",
       "</div>"
      ],
      "text/plain": [
       "   correct_prediction sentiment prediction  counts\n",
       "0               False  negative    neutral     362\n",
       "1               False  negative   positive      13\n",
       "2               False   neutral   negative      88\n",
       "3               False   neutral   positive     122\n",
       "4               False  positive   negative       6\n",
       "5               False  positive    neutral     234\n",
       "6                True  negative   negative     626\n",
       "7                True   neutral    neutral    1220\n",
       "8                True  positive   positive     863"
      ]
     },
     "execution_count": 9,
     "metadata": {},
     "output_type": "execute_result"
    }
   ],
   "source": [
    "model_name = 'davinci:ft-personal-2023-03-13-03-23-53' # mind your model name\n",
    "\n",
    "predictions = predict_batch(test, model_name, batch_size=1, max_tokens=1)\n",
    "\n",
    "test['prediction'] = np.array(predictions)\n",
    "test['correct_prediction'] = test['sentiment'] == test['prediction']\n",
    "\n",
    "test_accuracy = test[test['sentiment'] == test['prediction']].shape[0] / test.shape[0]\n",
    "\n",
    "print(f'test_accuracy: {test_accuracy}')\n",
    "\n",
    "test.groupby(['correct_prediction','sentiment','prediction']).size().reset_index(name='counts')"
   ]
  },
  {
   "cell_type": "code",
   "execution_count": null,
   "id": "ec28603a-4b5e-4326-8ecd-7a0d7a32cc40",
   "metadata": {},
   "outputs": [],
   "source": []
  }
 ],
 "metadata": {
  "kernelspec": {
   "display_name": "Python 3 (ipykernel)",
   "language": "python",
   "name": "python3"
  },
  "language_info": {
   "codemirror_mode": {
    "name": "ipython",
    "version": 3
   },
   "file_extension": ".py",
   "mimetype": "text/x-python",
   "name": "python",
   "nbconvert_exporter": "python",
   "pygments_lexer": "ipython3",
   "version": "3.10.8"
  }
 },
 "nbformat": 4,
 "nbformat_minor": 5
}
